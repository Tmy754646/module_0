{
 "cells": [
  {
   "cell_type": "code",
   "execution_count": 3,
   "metadata": {},
   "outputs": [
    {
     "name": "stdout",
     "output_type": "stream",
     "text": [
      "Алгоритм угадывает число в среднем за 5 попыток\n"
     ]
    },
    {
     "data": {
      "text/plain": [
       "5"
      ]
     },
     "execution_count": 3,
     "metadata": {},
     "output_type": "execute_result"
    }
   ],
   "source": [
    "import random\n",
    "import numpy as np\n",
    "\n",
    "def game_core(number):\n",
    "\n",
    "    count = 1      # Объявляем счетчик попыток\n",
    "    predict = 50   # Задаем первую гипотезу\n",
    "    up = 101       # Задаем верхнюю (up) и нижнюю (low) границы интервала будущих гипотез\n",
    "    low = 1\n",
    "\n",
    "    while number != predict:       # Тестируем гипотезу меняя границы интервала в зависимости от соотоношения гипотезы и задуманного числа  \n",
    "        if predict > number:\n",
    "            up = predict\n",
    "        elif predict < number: \n",
    "            low = predict\n",
    "\n",
    "        predict = int((low+up)/2) # Определяем новую гипотезу как средину интервала\n",
    "        count += 1\n",
    "    return(count) # выход из цикла, если угадали\n",
    "\n",
    "        \n",
    "def score_game(game_core):\n",
    "    #Запускаем игру 1000 раз, чтобы узнать, как быстро игра угадывает число\n",
    "    count_ls = []\n",
    "    np.random.seed(1)  # фиксируем RANDOM SEED, чтобы ваш эксперимент был воспроизводим!\n",
    "    random_array = np.random.randint(1,101, size=(1000))\n",
    "    for number in random_array:\n",
    "        count_ls.append(game_core(number))\n",
    "    score = int(np.mean(count_ls))\n",
    "    print(f'Алгоритм угадывает число в среднем за {score} попыток')\n",
    "    return(score)\n",
    "\n",
    "\n",
    "score_game(game_core)"
   ]
  },
  {
   "cell_type": "code",
   "execution_count": null,
   "metadata": {},
   "outputs": [],
   "source": []
  }
 ],
 "metadata": {
  "kernelspec": {
   "display_name": "Python 3",
   "language": "python",
   "name": "python3"
  },
  "language_info": {
   "codemirror_mode": {
    "name": "ipython",
    "version": 3
   },
   "file_extension": ".py",
   "mimetype": "text/x-python",
   "name": "python",
   "nbconvert_exporter": "python",
   "pygments_lexer": "ipython3",
   "version": "3.7.6"
  }
 },
 "nbformat": 4,
 "nbformat_minor": 4
}
